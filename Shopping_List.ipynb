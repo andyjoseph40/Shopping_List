{
 "cells": [
  {
   "cell_type": "code",
   "execution_count": 1,
   "id": "f19da079",
   "metadata": {
    "scrolled": true
   },
   "outputs": [
    {
     "name": "stdout",
     "output_type": "stream",
     "text": [
      "This is the shopping list\n"
     ]
    }
   ],
   "source": [
    "# Declaring the list\n",
    "print(\"This is the shopping list\")"
   ]
  },
  {
   "cell_type": "code",
   "execution_count": 2,
   "id": "e95d4ed8",
   "metadata": {},
   "outputs": [
    {
     "name": "stdout",
     "output_type": "stream",
     "text": [
      "Enter ADD to add to the list. \n",
      " Enter REMOVE to remove from the list. \n",
      " Enter VIEW to view the list\n"
     ]
    }
   ],
   "source": [
    "# Instruction\n",
    "print(\"Enter ADD to add to the list. \\n Enter REMOVE to remove from the list. \\n Enter VIEW to view the list\")"
   ]
  },
  {
   "cell_type": "code",
   "execution_count": null,
   "id": "a0794657",
   "metadata": {},
   "outputs": [],
   "source": [
    "# Use a while loop to create a menu of options for the user to ADD, REMOVE, or VIEW items from the list.\n",
    "# AND Use a for loop to iterate through the list of items and display them to the user\n",
    "\n",
    "# Creating an empty list to store shopping items\n",
    "\n",
    "Shopping_list = []\n",
    "\n",
    "while True:\n",
    "    Menu_option = input(\"enter preferred menu option. (ADD, REMOVE OR VIEW): \\n \")\n",
    "    if Menu_option == \"ADD\":    #to add item to the list\n",
    "        item = input(\"What would you like to add to the list?  \\n\")\n",
    "        if len(Shopping_list) <=4:  #It will have not more than five items\n",
    "            Shopping_list.append(item)\n",
    "            print(Shopping_list)\n",
    "            \n",
    "        else:\n",
    "            print(\"Sorry, you cannot add to the list because it is full.\")\n",
    "                \n",
    "    elif Menu_option == \"REMOVE\":    #to remove item from the list\n",
    "        item = input(\"which item would you love to remove?, ('q to quit'): \\n\")\n",
    "        if item in Shopping_list:\n",
    "            Shopping_list.remove(item)\n",
    "            print(f\"{item} has been removed from the list\")\n",
    "        elif item == \"q\":\n",
    "            print(\"Thank you, you have quit this section\")\n",
    "            \n",
    "    \n",
    "    elif Menu_option == \"VIEW\":\n",
    "        if len(Shopping_list) > 0:\n",
    "            print(\"Items in the list are: \\n\")\n",
    "            for i in Shopping_list:\n",
    "                print(f\" {i}\")\n",
    "        else:\n",
    "            print(\"The list is empty\")\n",
    "            \n",
    "    else:\n",
    "        print(\"You didn't pick any right menu\")\n",
    "        \n",
    "        continue\n"
   ]
  },
  {
   "cell_type": "markdown",
   "id": "a2ff5a4d",
   "metadata": {},
   "source": [
    "### Manipulating a List to Set"
   ]
  },
  {
   "cell_type": "code",
   "execution_count": null,
   "id": "0b465caa",
   "metadata": {},
   "outputs": [],
   "source": [
    "# MANIPULATION OF LIST TO SET\n",
    "Set_list = set(Shopping_list)\n",
    "print(Set_list)"
   ]
  },
  {
   "cell_type": "code",
   "execution_count": null,
   "id": "3d0bdd32",
   "metadata": {},
   "outputs": [],
   "source": [
    "# Adding to set\n",
    "Set_list.add(\"DVD\")\n",
    "print(Set_list)"
   ]
  },
  {
   "cell_type": "code",
   "execution_count": null,
   "id": "f9a27e2e",
   "metadata": {},
   "outputs": [],
   "source": [
    "# Removing items from the sets\n",
    "Set_list.remove(\"Television\")\n",
    "print(Set_list)"
   ]
  },
  {
   "cell_type": "markdown",
   "id": "9488b0a2",
   "metadata": {},
   "source": [
    "### Manipulating a List to Tuple\n",
    "#### You can not add to tuple since it is unchangeable, instead, you change the list to a tuple and manipulate."
   ]
  },
  {
   "cell_type": "code",
   "execution_count": null,
   "id": "3a223785",
   "metadata": {},
   "outputs": [],
   "source": [
    "# Declaring/Manipulating the Tuple\n",
    "\n",
    "Shopping_list = ()\n",
    "\n",
    "#CHANGING LIST TO TUPLE\n",
    "tuple_list = tuple(shopping_list)\n",
    "print(tuple_list)\n",
    "\n",
    "#OR\n",
    "print(shopping_list)\n",
    "def convert(shopping_list):\n",
    "    return tuple(shopping_list)\n",
    "print(convert(shopping_list))\n",
    "\n"
   ]
  },
  {
   "cell_type": "code",
   "execution_count": null,
   "id": "f0a78d24",
   "metadata": {},
   "outputs": [],
   "source": [
    "#TUPLE ISNT MUTABLE SO WE CANT ADD OR REMOVE BUT IT IS INDEXED\n",
    "print(tuple_list[2])\n",
    "\n"
   ]
  },
  {
   "cell_type": "code",
   "execution_count": null,
   "id": "2e0ed6d5",
   "metadata": {},
   "outputs": [],
   "source": [
    "#or getting the length\n",
    "print(len(tuple_list))"
   ]
  },
  {
   "cell_type": "markdown",
   "id": "e267aef1",
   "metadata": {},
   "source": [
    "### Manipulating a List to Dictionaries"
   ]
  },
  {
   "cell_type": "code",
   "execution_count": null,
   "id": "b86bcb2d",
   "metadata": {},
   "outputs": [],
   "source": [
    "print(shopping_list)\n",
    "dict_list = {index: element for index, element in enumerate(shopping_list)}\n",
    "print(dict_list)\n",
    "\n",
    "#to print out the keys in the dictionary\n",
    "for key in dict_list.keys():\n",
    "    print(key)\n",
    "\n",
    "#to print out values from the dictionary\n",
    "for value in dict_list.values():\n",
    "    print(value)\n",
    "\n",
    "#to print out items from the dictionary\n",
    "for item in dict_list.items():\n",
    "    print(item)\n",
    "\n",
    "#to add items ito the dictionary\n",
    "dict_list[3] = \"Chargers\"\n",
    "print(dict_list)\n",
    "\n",
    "#to remove item from the dictionary\n",
    "dict_list.pop(0)\n",
    "print(dict_list)"
   ]
  },
  {
   "cell_type": "code",
   "execution_count": null,
   "id": "d372e73d",
   "metadata": {},
   "outputs": [],
   "source": []
  }
 ],
 "metadata": {
  "kernelspec": {
   "display_name": "Python 3 (ipykernel)",
   "language": "python",
   "name": "python3"
  },
  "language_info": {
   "codemirror_mode": {
    "name": "ipython",
    "version": 3
   },
   "file_extension": ".py",
   "mimetype": "text/x-python",
   "name": "python",
   "nbconvert_exporter": "python",
   "pygments_lexer": "ipython3",
   "version": "3.11.5"
  }
 },
 "nbformat": 4,
 "nbformat_minor": 5
}
